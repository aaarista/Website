{
 "cells": [
  {
   "cell_type": "markdown",
   "metadata": {},
   "source": [
    "<h1><center><u>Citi Bike Location Data October 2018</u></center></h1>"
   ]
  },
  {
   "cell_type": "code",
   "execution_count": 30,
   "metadata": {},
   "outputs": [],
   "source": [
    "import pandas as pd\n",
    "import numpy as np\n",
    "import os\n",
    "import glob\n",
    "import xlrd\n",
    "pd.options.display.max_columns = 40\n",
    "import warnings\n",
    "warnings.filterwarnings('ignore')\n",
    "import matplotlib.pyplot as plt\n",
    "import seaborn as sns; sns.set(style=\"white\", color_codes=True)\n",
    "\n"
   ]
  },
  {
   "cell_type": "markdown",
   "metadata": {},
   "source": [
    "<h1 align=\"center\"><font color=\"blue\">Initial Import and Cleanup of Data from Citi Bike</h1></font>"
   ]
  },
  {
   "cell_type": "code",
   "execution_count": 4,
   "metadata": {},
   "outputs": [
    {
     "data": {
      "text/html": [
       "<div>\n",
       "<style scoped>\n",
       "    .dataframe tbody tr th:only-of-type {\n",
       "        vertical-align: middle;\n",
       "    }\n",
       "\n",
       "    .dataframe tbody tr th {\n",
       "        vertical-align: top;\n",
       "    }\n",
       "\n",
       "    .dataframe thead th {\n",
       "        text-align: right;\n",
       "    }\n",
       "</style>\n",
       "<table border=\"1\" class=\"dataframe\">\n",
       "  <thead>\n",
       "    <tr style=\"text-align: right;\">\n",
       "      <th></th>\n",
       "      <th>tripduration</th>\n",
       "      <th>starttime</th>\n",
       "      <th>stoptime</th>\n",
       "      <th>start station id</th>\n",
       "      <th>start station name</th>\n",
       "      <th>start station latitude</th>\n",
       "      <th>start station longitude</th>\n",
       "      <th>end station id</th>\n",
       "      <th>end station name</th>\n",
       "      <th>end station latitude</th>\n",
       "      <th>end station longitude</th>\n",
       "      <th>bikeid</th>\n",
       "      <th>usertype</th>\n",
       "      <th>birth year</th>\n",
       "      <th>gender</th>\n",
       "    </tr>\n",
       "  </thead>\n",
       "  <tbody>\n",
       "    <tr>\n",
       "      <th>0</th>\n",
       "      <td>330</td>\n",
       "      <td>2018-10-01 00:00:00.7010</td>\n",
       "      <td>2018-10-01 00:05:30.8490</td>\n",
       "      <td>293.0</td>\n",
       "      <td>Lafayette St &amp; E 8 St</td>\n",
       "      <td>40.730207</td>\n",
       "      <td>-73.991026</td>\n",
       "      <td>504.0</td>\n",
       "      <td>1 Ave &amp; E 16 St</td>\n",
       "      <td>40.732219</td>\n",
       "      <td>-73.981656</td>\n",
       "      <td>30493</td>\n",
       "      <td>Subscriber</td>\n",
       "      <td>1995</td>\n",
       "      <td>1</td>\n",
       "    </tr>\n",
       "    <tr>\n",
       "      <th>1</th>\n",
       "      <td>309</td>\n",
       "      <td>2018-10-01 00:00:13.5780</td>\n",
       "      <td>2018-10-01 00:05:23.2310</td>\n",
       "      <td>433.0</td>\n",
       "      <td>old - E 13 St &amp; Avenue A</td>\n",
       "      <td>40.729554</td>\n",
       "      <td>-73.980572</td>\n",
       "      <td>394.0</td>\n",
       "      <td>E 9 St &amp; Avenue C</td>\n",
       "      <td>40.725213</td>\n",
       "      <td>-73.977688</td>\n",
       "      <td>33054</td>\n",
       "      <td>Subscriber</td>\n",
       "      <td>1967</td>\n",
       "      <td>1</td>\n",
       "    </tr>\n",
       "    <tr>\n",
       "      <th>2</th>\n",
       "      <td>734</td>\n",
       "      <td>2018-10-01 00:00:16.6040</td>\n",
       "      <td>2018-10-01 00:12:31.5050</td>\n",
       "      <td>3472.0</td>\n",
       "      <td>W 15 St &amp; 10 Ave</td>\n",
       "      <td>40.742754</td>\n",
       "      <td>-74.007474</td>\n",
       "      <td>285.0</td>\n",
       "      <td>Broadway &amp; E 14 St</td>\n",
       "      <td>40.734546</td>\n",
       "      <td>-73.990741</td>\n",
       "      <td>33400</td>\n",
       "      <td>Subscriber</td>\n",
       "      <td>1983</td>\n",
       "      <td>2</td>\n",
       "    </tr>\n",
       "    <tr>\n",
       "      <th>3</th>\n",
       "      <td>788</td>\n",
       "      <td>2018-10-01 00:00:35.0670</td>\n",
       "      <td>2018-10-01 00:13:43.5780</td>\n",
       "      <td>417.0</td>\n",
       "      <td>Barclay St &amp; Church St</td>\n",
       "      <td>40.712912</td>\n",
       "      <td>-74.010202</td>\n",
       "      <td>3472.0</td>\n",
       "      <td>W 15 St &amp; 10 Ave</td>\n",
       "      <td>40.742754</td>\n",
       "      <td>-74.007474</td>\n",
       "      <td>31140</td>\n",
       "      <td>Customer</td>\n",
       "      <td>1988</td>\n",
       "      <td>1</td>\n",
       "    </tr>\n",
       "    <tr>\n",
       "      <th>4</th>\n",
       "      <td>1136</td>\n",
       "      <td>2018-10-01 00:00:38.1410</td>\n",
       "      <td>2018-10-01 00:19:34.6490</td>\n",
       "      <td>3699.0</td>\n",
       "      <td>W 50 St &amp; 9 Ave</td>\n",
       "      <td>40.763605</td>\n",
       "      <td>-73.989180</td>\n",
       "      <td>495.0</td>\n",
       "      <td>W 47 St &amp; 10 Ave</td>\n",
       "      <td>40.762699</td>\n",
       "      <td>-73.993012</td>\n",
       "      <td>20294</td>\n",
       "      <td>Subscriber</td>\n",
       "      <td>1969</td>\n",
       "      <td>0</td>\n",
       "    </tr>\n",
       "  </tbody>\n",
       "</table>\n",
       "</div>"
      ],
      "text/plain": [
       "   tripduration                 starttime                  stoptime  \\\n",
       "0           330  2018-10-01 00:00:00.7010  2018-10-01 00:05:30.8490   \n",
       "1           309  2018-10-01 00:00:13.5780  2018-10-01 00:05:23.2310   \n",
       "2           734  2018-10-01 00:00:16.6040  2018-10-01 00:12:31.5050   \n",
       "3           788  2018-10-01 00:00:35.0670  2018-10-01 00:13:43.5780   \n",
       "4          1136  2018-10-01 00:00:38.1410  2018-10-01 00:19:34.6490   \n",
       "\n",
       "   start station id        start station name  start station latitude  \\\n",
       "0             293.0     Lafayette St & E 8 St               40.730207   \n",
       "1             433.0  old - E 13 St & Avenue A               40.729554   \n",
       "2            3472.0          W 15 St & 10 Ave               40.742754   \n",
       "3             417.0    Barclay St & Church St               40.712912   \n",
       "4            3699.0           W 50 St & 9 Ave               40.763605   \n",
       "\n",
       "   start station longitude  end station id    end station name  \\\n",
       "0               -73.991026           504.0     1 Ave & E 16 St   \n",
       "1               -73.980572           394.0   E 9 St & Avenue C   \n",
       "2               -74.007474           285.0  Broadway & E 14 St   \n",
       "3               -74.010202          3472.0    W 15 St & 10 Ave   \n",
       "4               -73.989180           495.0    W 47 St & 10 Ave   \n",
       "\n",
       "   end station latitude  end station longitude  bikeid    usertype  \\\n",
       "0             40.732219             -73.981656   30493  Subscriber   \n",
       "1             40.725213             -73.977688   33054  Subscriber   \n",
       "2             40.734546             -73.990741   33400  Subscriber   \n",
       "3             40.742754             -74.007474   31140    Customer   \n",
       "4             40.762699             -73.993012   20294  Subscriber   \n",
       "\n",
       "   birth year  gender  \n",
       "0        1995       1  \n",
       "1        1967       1  \n",
       "2        1983       2  \n",
       "3        1988       1  \n",
       "4        1969       0  "
      ]
     },
     "execution_count": 4,
     "metadata": {},
     "output_type": "execute_result"
    }
   ],
   "source": [
    "df1 = pd.read_csv(\"https://s3.amazonaws.com/tripdata/201810-citibike-tripdata.csv.zip\")\n",
    "df1.head()"
   ]
  },
  {
   "cell_type": "code",
   "execution_count": 5,
   "metadata": {},
   "outputs": [
    {
     "data": {
      "text/plain": [
       "(1878657, 15)"
      ]
     },
     "execution_count": 5,
     "metadata": {},
     "output_type": "execute_result"
    }
   ],
   "source": [
    "df1.shape # Show the count of rows, columns respectively"
   ]
  },
  {
   "cell_type": "code",
   "execution_count": 7,
   "metadata": {},
   "outputs": [
    {
     "data": {
      "text/html": [
       "<div>\n",
       "<style scoped>\n",
       "    .dataframe tbody tr th:only-of-type {\n",
       "        vertical-align: middle;\n",
       "    }\n",
       "\n",
       "    .dataframe tbody tr th {\n",
       "        vertical-align: top;\n",
       "    }\n",
       "\n",
       "    .dataframe thead th {\n",
       "        text-align: right;\n",
       "    }\n",
       "</style>\n",
       "<table border=\"1\" class=\"dataframe\">\n",
       "  <thead>\n",
       "    <tr style=\"text-align: right;\">\n",
       "      <th></th>\n",
       "      <th>tripduration</th>\n",
       "      <th>starttime</th>\n",
       "      <th>stoptime</th>\n",
       "      <th>start station id</th>\n",
       "      <th>start station name</th>\n",
       "      <th>start station latitude</th>\n",
       "      <th>start station longitude</th>\n",
       "      <th>end station id</th>\n",
       "      <th>end station name</th>\n",
       "      <th>end station latitude</th>\n",
       "      <th>end station longitude</th>\n",
       "      <th>bikeid</th>\n",
       "      <th>usertype</th>\n",
       "      <th>birth year</th>\n",
       "      <th>gender</th>\n",
       "    </tr>\n",
       "  </thead>\n",
       "  <tbody>\n",
       "    <tr>\n",
       "      <th>0</th>\n",
       "      <td>330</td>\n",
       "      <td>2018-10-01 00:00:00.7010</td>\n",
       "      <td>2018-10-01 00:05:30.8490</td>\n",
       "      <td>293.0</td>\n",
       "      <td>Lafayette St &amp; E 8 St</td>\n",
       "      <td>40.730207</td>\n",
       "      <td>-73.991026</td>\n",
       "      <td>504.0</td>\n",
       "      <td>1 Ave &amp; E 16 St</td>\n",
       "      <td>40.732219</td>\n",
       "      <td>-73.981656</td>\n",
       "      <td>30493</td>\n",
       "      <td>Subscriber</td>\n",
       "      <td>1995</td>\n",
       "      <td>1</td>\n",
       "    </tr>\n",
       "    <tr>\n",
       "      <th>1</th>\n",
       "      <td>309</td>\n",
       "      <td>2018-10-01 00:00:13.5780</td>\n",
       "      <td>2018-10-01 00:05:23.2310</td>\n",
       "      <td>433.0</td>\n",
       "      <td>old - E 13 St &amp; Avenue A</td>\n",
       "      <td>40.729554</td>\n",
       "      <td>-73.980572</td>\n",
       "      <td>394.0</td>\n",
       "      <td>E 9 St &amp; Avenue C</td>\n",
       "      <td>40.725213</td>\n",
       "      <td>-73.977688</td>\n",
       "      <td>33054</td>\n",
       "      <td>Subscriber</td>\n",
       "      <td>1967</td>\n",
       "      <td>1</td>\n",
       "    </tr>\n",
       "    <tr>\n",
       "      <th>2</th>\n",
       "      <td>734</td>\n",
       "      <td>2018-10-01 00:00:16.6040</td>\n",
       "      <td>2018-10-01 00:12:31.5050</td>\n",
       "      <td>3472.0</td>\n",
       "      <td>W 15 St &amp; 10 Ave</td>\n",
       "      <td>40.742754</td>\n",
       "      <td>-74.007474</td>\n",
       "      <td>285.0</td>\n",
       "      <td>Broadway &amp; E 14 St</td>\n",
       "      <td>40.734546</td>\n",
       "      <td>-73.990741</td>\n",
       "      <td>33400</td>\n",
       "      <td>Subscriber</td>\n",
       "      <td>1983</td>\n",
       "      <td>2</td>\n",
       "    </tr>\n",
       "    <tr>\n",
       "      <th>3</th>\n",
       "      <td>788</td>\n",
       "      <td>2018-10-01 00:00:35.0670</td>\n",
       "      <td>2018-10-01 00:13:43.5780</td>\n",
       "      <td>417.0</td>\n",
       "      <td>Barclay St &amp; Church St</td>\n",
       "      <td>40.712912</td>\n",
       "      <td>-74.010202</td>\n",
       "      <td>3472.0</td>\n",
       "      <td>W 15 St &amp; 10 Ave</td>\n",
       "      <td>40.742754</td>\n",
       "      <td>-74.007474</td>\n",
       "      <td>31140</td>\n",
       "      <td>Customer</td>\n",
       "      <td>1988</td>\n",
       "      <td>1</td>\n",
       "    </tr>\n",
       "    <tr>\n",
       "      <th>4</th>\n",
       "      <td>1136</td>\n",
       "      <td>2018-10-01 00:00:38.1410</td>\n",
       "      <td>2018-10-01 00:19:34.6490</td>\n",
       "      <td>3699.0</td>\n",
       "      <td>W 50 St &amp; 9 Ave</td>\n",
       "      <td>40.763605</td>\n",
       "      <td>-73.989180</td>\n",
       "      <td>495.0</td>\n",
       "      <td>W 47 St &amp; 10 Ave</td>\n",
       "      <td>40.762699</td>\n",
       "      <td>-73.993012</td>\n",
       "      <td>20294</td>\n",
       "      <td>Subscriber</td>\n",
       "      <td>1969</td>\n",
       "      <td>0</td>\n",
       "    </tr>\n",
       "  </tbody>\n",
       "</table>\n",
       "</div>"
      ],
      "text/plain": [
       "   tripduration                 starttime                  stoptime  \\\n",
       "0           330  2018-10-01 00:00:00.7010  2018-10-01 00:05:30.8490   \n",
       "1           309  2018-10-01 00:00:13.5780  2018-10-01 00:05:23.2310   \n",
       "2           734  2018-10-01 00:00:16.6040  2018-10-01 00:12:31.5050   \n",
       "3           788  2018-10-01 00:00:35.0670  2018-10-01 00:13:43.5780   \n",
       "4          1136  2018-10-01 00:00:38.1410  2018-10-01 00:19:34.6490   \n",
       "\n",
       "   start station id        start station name  start station latitude  \\\n",
       "0             293.0     Lafayette St & E 8 St               40.730207   \n",
       "1             433.0  old - E 13 St & Avenue A               40.729554   \n",
       "2            3472.0          W 15 St & 10 Ave               40.742754   \n",
       "3             417.0    Barclay St & Church St               40.712912   \n",
       "4            3699.0           W 50 St & 9 Ave               40.763605   \n",
       "\n",
       "   start station longitude  end station id    end station name  \\\n",
       "0               -73.991026           504.0     1 Ave & E 16 St   \n",
       "1               -73.980572           394.0   E 9 St & Avenue C   \n",
       "2               -74.007474           285.0  Broadway & E 14 St   \n",
       "3               -74.010202          3472.0    W 15 St & 10 Ave   \n",
       "4               -73.989180           495.0    W 47 St & 10 Ave   \n",
       "\n",
       "   end station latitude  end station longitude  bikeid    usertype  \\\n",
       "0             40.732219             -73.981656   30493  Subscriber   \n",
       "1             40.725213             -73.977688   33054  Subscriber   \n",
       "2             40.734546             -73.990741   33400  Subscriber   \n",
       "3             40.742754             -74.007474   31140    Customer   \n",
       "4             40.762699             -73.993012   20294  Subscriber   \n",
       "\n",
       "   birth year  gender  \n",
       "0        1995       1  \n",
       "1        1967       1  \n",
       "2        1983       2  \n",
       "3        1988       1  \n",
       "4        1969       0  "
      ]
     },
     "execution_count": 7,
     "metadata": {},
     "output_type": "execute_result"
    }
   ],
   "source": [
    "df1.sort_values('starttime').head() # Sorts values in ascending order."
   ]
  },
  {
   "cell_type": "code",
   "execution_count": 12,
   "metadata": {},
   "outputs": [
    {
     "data": {
      "text/plain": [
       "tripduration               float64\n",
       "starttime                   object\n",
       "stoptime                    object\n",
       "start station id           float64\n",
       "start station name          object\n",
       "start station latitude     float64\n",
       "start station longitude    float64\n",
       "end station id             float64\n",
       "end station name            object\n",
       "end station latitude       float64\n",
       "end station longitude      float64\n",
       "bikeid                       int64\n",
       "usertype                    object\n",
       "birth year                   int64\n",
       "gender                       int64\n",
       "dtype: object"
      ]
     },
     "execution_count": 12,
     "metadata": {},
     "output_type": "execute_result"
    }
   ],
   "source": [
    "df1['tripduration'] = df1['tripduration'].astype('float') # Changes the datatype to float\n",
    "df1.dtypes"
   ]
  },
  {
   "cell_type": "markdown",
   "metadata": {},
   "source": [
    "<h1 align=\"center\"><font color=\"blue\">Data Grouping and Preliminary Analysis</font></h1>"
   ]
  },
  {
   "cell_type": "markdown",
   "metadata": {},
   "source": [
    "## Group and describe the top 20 Starting Stations by Trip Count"
   ]
  },
  {
   "cell_type": "code",
   "execution_count": 10,
   "metadata": {},
   "outputs": [],
   "source": [
    "df2 = df1.groupby('start station name')['tripduration'].describe().sort_values('count', ascending=False).head(20)"
   ]
  },
  {
   "cell_type": "markdown",
   "metadata": {},
   "source": [
    "## Chart showing the mean trip duration for the to 20 locations by total trips"
   ]
  },
  {
   "cell_type": "code",
   "execution_count": 11,
   "metadata": {},
   "outputs": [
    {
     "data": {
      "text/plain": [
       "<matplotlib.axes._subplots.AxesSubplot at 0x1a1746edd8>"
      ]
     },
     "execution_count": 11,
     "metadata": {},
     "output_type": "execute_result"
    },
    {
     "data": {
      "image/png": "[encoded data removed]",
      "text/plain": [
       "<Figure size 1080x720 with 1 Axes>"
      ]
     },
     "metadata": {},
     "output_type": "display_data"
    }
   ],
   "source": [
    "df2['mean'].plot(kind=\"bar\", figsize=(15, 10), fontsize=12)"
   ]
  },
  {
   "cell_type": "markdown",
   "metadata": {},
   "source": [
    "## Converts the 'starttime' column to datetime."
   ]
  },
  {
   "cell_type": "code",
   "execution_count": 13,
   "metadata": {},
   "outputs": [],
   "source": [
    "df1['starttime'] = pd.to_datetime(df1['starttime'])"
   ]
  },
  {
   "cell_type": "code",
   "execution_count": 14,
   "metadata": {},
   "outputs": [],
   "source": [
    "df1.index = df1['starttime'] # Change the index to the 'starttime column'\n",
    "del df1['starttime'] # deletes the 'startime' column."
   ]
  },
  {
   "cell_type": "code",
   "execution_count": 15,
   "metadata": {},
   "outputs": [],
   "source": [
    "df3 = pd.DataFrame(df1.resample('d').size()) # Top 20 days "
   ]
  },
  {
   "cell_type": "code",
   "execution_count": 16,
   "metadata": {},
   "outputs": [
    {
     "data": {
      "text/html": [
       "<div>\n",
       "<style scoped>\n",
       "    .dataframe tbody tr th:only-of-type {\n",
       "        vertical-align: middle;\n",
       "    }\n",
       "\n",
       "    .dataframe tbody tr th {\n",
       "        vertical-align: top;\n",
       "    }\n",
       "\n",
       "    .dataframe thead th {\n",
       "        text-align: right;\n",
       "    }\n",
       "</style>\n",
       "<table border=\"1\" class=\"dataframe\">\n",
       "  <thead>\n",
       "    <tr style=\"text-align: right;\">\n",
       "      <th></th>\n",
       "      <th>0</th>\n",
       "    </tr>\n",
       "    <tr>\n",
       "      <th>starttime</th>\n",
       "      <th></th>\n",
       "    </tr>\n",
       "  </thead>\n",
       "  <tbody>\n",
       "    <tr>\n",
       "      <th>2018-10-01</th>\n",
       "      <td>71378</td>\n",
       "    </tr>\n",
       "    <tr>\n",
       "      <th>2018-10-02</th>\n",
       "      <td>73110</td>\n",
       "    </tr>\n",
       "    <tr>\n",
       "      <th>2018-10-03</th>\n",
       "      <td>76757</td>\n",
       "    </tr>\n",
       "    <tr>\n",
       "      <th>2018-10-04</th>\n",
       "      <td>70657</td>\n",
       "    </tr>\n",
       "    <tr>\n",
       "      <th>2018-10-05</th>\n",
       "      <td>74515</td>\n",
       "    </tr>\n",
       "  </tbody>\n",
       "</table>\n",
       "</div>"
      ],
      "text/plain": [
       "                0\n",
       "starttime        \n",
       "2018-10-01  71378\n",
       "2018-10-02  73110\n",
       "2018-10-03  76757\n",
       "2018-10-04  70657\n",
       "2018-10-05  74515"
      ]
     },
     "execution_count": 16,
     "metadata": {},
     "output_type": "execute_result"
    }
   ],
   "source": [
    "df3.head()"
   ]
  },
  {
   "cell_type": "code",
   "execution_count": 23,
   "metadata": {},
   "outputs": [],
   "source": [
    "df3 = df3.rename(columns={0: 'Total Trips'}) # Renames column to 'Total Trips'\n",
    "df3['Day of Week'] = df3.index.dayofweek # Changes to the day of the week by number \n",
    "grph = df3.replace({'Day of Week':{0: 'Mon', 1: 'Tues', 2: 'Wed', 3: 'Thurs', 4: 'Fri', 5: 'Sat', 6: 'Sun'}}) # replace day by number with string"
   ]
  },
  {
   "cell_type": "code",
   "execution_count": 25,
   "metadata": {},
   "outputs": [
    {
     "data": {
      "text/html": [
       "<div>\n",
       "<style scoped>\n",
       "    .dataframe tbody tr th:only-of-type {\n",
       "        vertical-align: middle;\n",
       "    }\n",
       "\n",
       "    .dataframe tbody tr th {\n",
       "        vertical-align: top;\n",
       "    }\n",
       "\n",
       "    .dataframe thead th {\n",
       "        text-align: right;\n",
       "    }\n",
       "</style>\n",
       "<table border=\"1\" class=\"dataframe\">\n",
       "  <thead>\n",
       "    <tr style=\"text-align: right;\">\n",
       "      <th></th>\n",
       "      <th>Total Trips</th>\n",
       "      <th>Day of Week</th>\n",
       "    </tr>\n",
       "    <tr>\n",
       "      <th>starttime</th>\n",
       "      <th></th>\n",
       "      <th></th>\n",
       "    </tr>\n",
       "  </thead>\n",
       "  <tbody>\n",
       "    <tr>\n",
       "      <th>2018-10-01</th>\n",
       "      <td>71378</td>\n",
       "      <td>Mon</td>\n",
       "    </tr>\n",
       "    <tr>\n",
       "      <th>2018-10-02</th>\n",
       "      <td>73110</td>\n",
       "      <td>Tues</td>\n",
       "    </tr>\n",
       "    <tr>\n",
       "      <th>2018-10-03</th>\n",
       "      <td>76757</td>\n",
       "      <td>Wed</td>\n",
       "    </tr>\n",
       "    <tr>\n",
       "      <th>2018-10-04</th>\n",
       "      <td>70657</td>\n",
       "      <td>Thurs</td>\n",
       "    </tr>\n",
       "    <tr>\n",
       "      <th>2018-10-05</th>\n",
       "      <td>74515</td>\n",
       "      <td>Fri</td>\n",
       "    </tr>\n",
       "  </tbody>\n",
       "</table>\n",
       "</div>"
      ],
      "text/plain": [
       "            Total Trips Day of Week\n",
       "starttime                          \n",
       "2018-10-01        71378         Mon\n",
       "2018-10-02        73110        Tues\n",
       "2018-10-03        76757         Wed\n",
       "2018-10-04        70657       Thurs\n",
       "2018-10-05        74515         Fri"
      ]
     },
     "execution_count": 25,
     "metadata": {},
     "output_type": "execute_result"
    }
   ],
   "source": [
    "grph.head() # To verify that the above cell is correct."
   ]
  },
  {
   "cell_type": "markdown",
   "metadata": {},
   "source": [
    "## Plots the Total Trips by Day"
   ]
  },
  {
   "cell_type": "code",
   "execution_count": 26,
   "metadata": {},
   "outputs": [
    {
     "data": {
      "text/plain": [
       "<matplotlib.axes._subplots.AxesSubplot at 0x1a17790ba8>"
      ]
     },
     "execution_count": 26,
     "metadata": {},
     "output_type": "execute_result"
    },
    {
     "data": {
      "image/png": "[encoded data removed]",
      "text/plain": [
       "<Figure size 1080x720 with 1 Axes>"
      ]
     },
     "metadata": {},
     "output_type": "display_data"
    }
   ],
   "source": [
    "grph['Total Trips'].plot(figsize=(15, 10), fontsize=12) "
   ]
  }
 ],
 "metadata": {
  "kernelspec": {
   "display_name": "Python 3",
   "language": "python",
   "name": "python3"
  },
  "language_info": {
   "codemirror_mode": {
    "name": "ipython",
    "version": 3
   },
   "file_extension": ".py",
   "mimetype": "text/x-python",
   "name": "python",
   "nbconvert_exporter": "python",
   "pygments_lexer": "ipython3",
   "version": "3.6.5"
  }
 },
 "nbformat": 4,
 "nbformat_minor": 2
}
